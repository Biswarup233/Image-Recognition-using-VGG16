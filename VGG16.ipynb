{
 "cells": [
  {
   "cell_type": "code",
   "execution_count": 1,
   "id": "e29f0b43",
   "metadata": {},
   "outputs": [],
   "source": [
    "import numpy as np\n",
    "import pandas as pd\n",
    "%matplotlib inline\n",
    "import matplotlib as mpl\n",
    "import matplotlib.pyplot as plt"
   ]
  },
  {
   "cell_type": "code",
   "execution_count": 2,
   "id": "e8245468",
   "metadata": {},
   "outputs": [],
   "source": [
    "import tensorflow as tf\n",
    "from tensorflow import keras"
   ]
  },
  {
   "cell_type": "code",
   "execution_count": 3,
   "id": "cb4365dc",
   "metadata": {},
   "outputs": [],
   "source": [
    "import os"
   ]
  },
  {
   "cell_type": "code",
   "execution_count": 4,
   "id": "9c7b477d",
   "metadata": {},
   "outputs": [],
   "source": [
    "train_dir= r'C:\\Users\\banty_ewxe1fw\\Desktop\\deep learning videos internshala\\Data set, Presentation and Python Notebook for Image recognition project module\\Dataset\\train'\n",
    "validation_dir=r'C:\\Users\\banty_ewxe1fw\\Desktop\\deep learning videos internshala\\Data set, Presentation and Python Notebook for Image recognition project module\\Dataset\\validation'\n",
    "test_dir= r'C:\\Users\\banty_ewxe1fw\\Desktop\\deep learning videos internshala\\Data set, Presentation and Python Notebook for Image recognition project module\\Dataset\\test'"
   ]
  },
  {
   "cell_type": "code",
   "execution_count": 5,
   "id": "9a954ede",
   "metadata": {},
   "outputs": [],
   "source": [
    "from tensorflow.keras.preprocessing.image import ImageDataGenerator"
   ]
  },
  {
   "cell_type": "code",
   "execution_count": 6,
   "id": "7f664d00",
   "metadata": {},
   "outputs": [
    {
     "name": "stdout",
     "output_type": "stream",
     "text": [
      "Found 2000 images belonging to 2 classes.\n",
      "Found 1000 images belonging to 2 classes.\n"
     ]
    }
   ],
   "source": [
    "train_datagen=ImageDataGenerator(\n",
    "    rescale=1./255,\n",
    "    rotation_range=40,\n",
    "    width_shift_range=0.2,\n",
    "    height_shift_range=0.2,\n",
    "    shear_range=0.2,\n",
    "    zoom_range=0.2,\n",
    "    horizontal_flip=True)\n",
    "\n",
    "test_datagen=ImageDataGenerator(rescale=1./255)\n",
    "\n",
    "train_generator=train_datagen.flow_from_directory(\n",
    "    train_dir,\n",
    "    target_size=(150,150),\n",
    "    batch_size=20,\n",
    "    class_mode=\"binary\")\n",
    "validation_generator=test_datagen.flow_from_directory(\n",
    "    validation_dir,\n",
    "    target_size=(150,150),\n",
    "    batch_size=20,\n",
    "    class_mode=\"binary\")"
   ]
  },
  {
   "cell_type": "code",
   "execution_count": 7,
   "id": "55a2e583",
   "metadata": {},
   "outputs": [],
   "source": [
    "from tensorflow.keras.applications import VGG16"
   ]
  },
  {
   "cell_type": "code",
   "execution_count": 8,
   "id": "aa630ffd",
   "metadata": {},
   "outputs": [],
   "source": [
    "conv_base=VGG16(weights='imagenet',\n",
    "               include_top=False,\n",
    "               input_shape=(150,150,3))"
   ]
  },
  {
   "cell_type": "code",
   "execution_count": 9,
   "id": "fb43aaef",
   "metadata": {},
   "outputs": [
    {
     "name": "stdout",
     "output_type": "stream",
     "text": [
      "Model: \"vgg16\"\n",
      "_________________________________________________________________\n",
      " Layer (type)                Output Shape              Param #   \n",
      "=================================================================\n",
      " input_1 (InputLayer)        [(None, 150, 150, 3)]     0         \n",
      "                                                                 \n",
      " block1_conv1 (Conv2D)       (None, 150, 150, 64)      1792      \n",
      "                                                                 \n",
      " block1_conv2 (Conv2D)       (None, 150, 150, 64)      36928     \n",
      "                                                                 \n",
      " block1_pool (MaxPooling2D)  (None, 75, 75, 64)        0         \n",
      "                                                                 \n",
      " block2_conv1 (Conv2D)       (None, 75, 75, 128)       73856     \n",
      "                                                                 \n",
      " block2_conv2 (Conv2D)       (None, 75, 75, 128)       147584    \n",
      "                                                                 \n",
      " block2_pool (MaxPooling2D)  (None, 37, 37, 128)       0         \n",
      "                                                                 \n",
      " block3_conv1 (Conv2D)       (None, 37, 37, 256)       295168    \n",
      "                                                                 \n",
      " block3_conv2 (Conv2D)       (None, 37, 37, 256)       590080    \n",
      "                                                                 \n",
      " block3_conv3 (Conv2D)       (None, 37, 37, 256)       590080    \n",
      "                                                                 \n",
      " block3_pool (MaxPooling2D)  (None, 18, 18, 256)       0         \n",
      "                                                                 \n",
      " block4_conv1 (Conv2D)       (None, 18, 18, 512)       1180160   \n",
      "                                                                 \n",
      " block4_conv2 (Conv2D)       (None, 18, 18, 512)       2359808   \n",
      "                                                                 \n",
      " block4_conv3 (Conv2D)       (None, 18, 18, 512)       2359808   \n",
      "                                                                 \n",
      " block4_pool (MaxPooling2D)  (None, 9, 9, 512)         0         \n",
      "                                                                 \n",
      " block5_conv1 (Conv2D)       (None, 9, 9, 512)         2359808   \n",
      "                                                                 \n",
      " block5_conv2 (Conv2D)       (None, 9, 9, 512)         2359808   \n",
      "                                                                 \n",
      " block5_conv3 (Conv2D)       (None, 9, 9, 512)         2359808   \n",
      "                                                                 \n",
      " block5_pool (MaxPooling2D)  (None, 4, 4, 512)         0         \n",
      "                                                                 \n",
      "=================================================================\n",
      "Total params: 14,714,688\n",
      "Trainable params: 14,714,688\n",
      "Non-trainable params: 0\n",
      "_________________________________________________________________\n"
     ]
    }
   ],
   "source": [
    "conv_base.summary()"
   ]
  },
  {
   "cell_type": "code",
   "execution_count": 10,
   "id": "8f5cda11",
   "metadata": {},
   "outputs": [],
   "source": [
    "from tensorflow.keras import models\n",
    "from tensorflow.keras import layers \n",
    "\n",
    "model=models.Sequential()\n",
    "model.add(conv_base)\n",
    "model.add(layers.Flatten())\n",
    "model.add(layers.Dense(256,activation='relu'))\n",
    "model.add(layers.Dense(1,activation='sigmoid'))"
   ]
  },
  {
   "cell_type": "code",
   "execution_count": 11,
   "id": "ad91b730",
   "metadata": {},
   "outputs": [
    {
     "name": "stdout",
     "output_type": "stream",
     "text": [
      "Model: \"sequential\"\n",
      "_________________________________________________________________\n",
      " Layer (type)                Output Shape              Param #   \n",
      "=================================================================\n",
      " vgg16 (Functional)          (None, 4, 4, 512)         14714688  \n",
      "                                                                 \n",
      " flatten (Flatten)           (None, 8192)              0         \n",
      "                                                                 \n",
      " dense (Dense)               (None, 256)               2097408   \n",
      "                                                                 \n",
      " dense_1 (Dense)             (None, 1)                 257       \n",
      "                                                                 \n",
      "=================================================================\n",
      "Total params: 16,812,353\n",
      "Trainable params: 16,812,353\n",
      "Non-trainable params: 0\n",
      "_________________________________________________________________\n"
     ]
    }
   ],
   "source": [
    "model.summary()"
   ]
  },
  {
   "cell_type": "code",
   "execution_count": 13,
   "id": "ce18b861",
   "metadata": {},
   "outputs": [],
   "source": [
    "conv_base.trainable=(False)"
   ]
  },
  {
   "cell_type": "code",
   "execution_count": 14,
   "id": "fab3dc70",
   "metadata": {},
   "outputs": [
    {
     "name": "stderr",
     "output_type": "stream",
     "text": [
      "C:\\Users\\banty_ewxe1fw\\AppData\\Roaming\\Python\\Python39\\site-packages\\keras\\optimizers\\optimizer_v2\\rmsprop.py:135: UserWarning: The `lr` argument is deprecated, use `learning_rate` instead.\n",
      "  super(RMSprop, self).__init__(name, **kwargs)\n"
     ]
    }
   ],
   "source": [
    "from tensorflow.keras import optimizers\n",
    "\n",
    "model.compile(loss='binary_crossentropy',\n",
    "             optimizer=optimizers.RMSprop(lr=2e-5),\n",
    "             metrics=['acc'])"
   ]
  },
  {
   "cell_type": "code",
   "execution_count": null,
   "id": "65e58ada",
   "metadata": {},
   "outputs": [],
   "source": [
    "#checkpoint_cb=keras.callbacks.ModelCheckpoint('CNN_Project_Model-{epochs:02d}.h5')"
   ]
  },
  {
   "cell_type": "code",
   "execution_count": 15,
   "id": "dfc868dc",
   "metadata": {},
   "outputs": [
    {
     "name": "stdout",
     "output_type": "stream",
     "text": [
      "Epoch 1/30\n",
      "100/100 [==============================] - 306s 3s/step - loss: 0.5927 - acc: 0.7060 - val_loss: 0.4454 - val_acc: 0.8370\n",
      "Epoch 2/30\n",
      "100/100 [==============================] - 310s 3s/step - loss: 0.4759 - acc: 0.7885 - val_loss: 0.3660 - val_acc: 0.8630\n",
      "Epoch 3/30\n",
      "100/100 [==============================] - 311s 3s/step - loss: 0.4241 - acc: 0.8180 - val_loss: 0.3349 - val_acc: 0.8720\n",
      "Epoch 4/30\n",
      "100/100 [==============================] - 310s 3s/step - loss: 0.4079 - acc: 0.8250 - val_loss: 0.3170 - val_acc: 0.8600\n",
      "Epoch 5/30\n",
      "100/100 [==============================] - 315s 3s/step - loss: 0.3882 - acc: 0.8270 - val_loss: 0.2974 - val_acc: 0.8770\n",
      "Epoch 6/30\n",
      "100/100 [==============================] - 315s 3s/step - loss: 0.3732 - acc: 0.8380 - val_loss: 0.2885 - val_acc: 0.8840\n",
      "Epoch 7/30\n",
      "100/100 [==============================] - 310s 3s/step - loss: 0.3557 - acc: 0.8460 - val_loss: 0.2758 - val_acc: 0.8920\n",
      "Epoch 8/30\n",
      "100/100 [==============================] - 311s 3s/step - loss: 0.3567 - acc: 0.8435 - val_loss: 0.2685 - val_acc: 0.8880\n",
      "Epoch 9/30\n",
      "100/100 [==============================] - 310s 3s/step - loss: 0.3435 - acc: 0.8415 - val_loss: 0.2695 - val_acc: 0.8890\n",
      "Epoch 10/30\n",
      "100/100 [==============================] - 314s 3s/step - loss: 0.3409 - acc: 0.8480 - val_loss: 0.2679 - val_acc: 0.8830\n",
      "Epoch 11/30\n",
      "100/100 [==============================] - 313s 3s/step - loss: 0.3422 - acc: 0.8495 - val_loss: 0.2597 - val_acc: 0.8960\n",
      "Epoch 12/30\n",
      "100/100 [==============================] - 312s 3s/step - loss: 0.3243 - acc: 0.8580 - val_loss: 0.2575 - val_acc: 0.8970\n",
      "Epoch 13/30\n",
      "100/100 [==============================] - 312s 3s/step - loss: 0.3312 - acc: 0.8575 - val_loss: 0.2693 - val_acc: 0.8860\n",
      "Epoch 14/30\n",
      "100/100 [==============================] - 312s 3s/step - loss: 0.3111 - acc: 0.8710 - val_loss: 0.2498 - val_acc: 0.8930\n",
      "Epoch 15/30\n",
      "100/100 [==============================] - 312s 3s/step - loss: 0.3093 - acc: 0.8690 - val_loss: 0.2505 - val_acc: 0.8980\n",
      "Epoch 16/30\n",
      "100/100 [==============================] - 313s 3s/step - loss: 0.3092 - acc: 0.8680 - val_loss: 0.2491 - val_acc: 0.8950\n",
      "Epoch 17/30\n",
      "100/100 [==============================] - 312s 3s/step - loss: 0.3124 - acc: 0.8565 - val_loss: 0.2489 - val_acc: 0.9000\n",
      "Epoch 18/30\n",
      "100/100 [==============================] - 320s 3s/step - loss: 0.3177 - acc: 0.8555 - val_loss: 0.2452 - val_acc: 0.9000\n",
      "Epoch 19/30\n",
      "100/100 [==============================] - 312s 3s/step - loss: 0.3092 - acc: 0.8605 - val_loss: 0.2473 - val_acc: 0.8950\n",
      "Epoch 20/30\n",
      "100/100 [==============================] - 312s 3s/step - loss: 0.3124 - acc: 0.8635 - val_loss: 0.2409 - val_acc: 0.9000\n",
      "Epoch 21/30\n",
      "100/100 [==============================] - 312s 3s/step - loss: 0.3009 - acc: 0.8730 - val_loss: 0.2509 - val_acc: 0.8930\n",
      "Epoch 22/30\n",
      "100/100 [==============================] - 314s 3s/step - loss: 0.3065 - acc: 0.8655 - val_loss: 0.2428 - val_acc: 0.9050\n",
      "Epoch 23/30\n",
      "100/100 [==============================] - 312s 3s/step - loss: 0.3046 - acc: 0.8605 - val_loss: 0.2443 - val_acc: 0.9050\n",
      "Epoch 24/30\n",
      "100/100 [==============================] - 312s 3s/step - loss: 0.3009 - acc: 0.8665 - val_loss: 0.2433 - val_acc: 0.9030\n",
      "Epoch 25/30\n",
      "100/100 [==============================] - 313s 3s/step - loss: 0.2870 - acc: 0.8765 - val_loss: 0.2458 - val_acc: 0.8960\n",
      "Epoch 26/30\n",
      "100/100 [==============================] - 312s 3s/step - loss: 0.2842 - acc: 0.8810 - val_loss: 0.2445 - val_acc: 0.9070\n",
      "Epoch 27/30\n",
      "100/100 [==============================] - 311s 3s/step - loss: 0.2979 - acc: 0.8780 - val_loss: 0.2434 - val_acc: 0.9070\n",
      "Epoch 28/30\n",
      "100/100 [==============================] - 311s 3s/step - loss: 0.2969 - acc: 0.8665 - val_loss: 0.2478 - val_acc: 0.9020\n",
      "Epoch 29/30\n",
      "100/100 [==============================] - 311s 3s/step - loss: 0.2839 - acc: 0.8765 - val_loss: 0.2493 - val_acc: 0.8950\n",
      "Epoch 30/30\n",
      "100/100 [==============================] - 321s 3s/step - loss: 0.2855 - acc: 0.8800 - val_loss: 0.2410 - val_acc: 0.9070\n"
     ]
    }
   ],
   "source": [
    "history=model.fit(\n",
    "    train_generator,\n",
    "    steps_per_epoch=100,\n",
    "    epochs=30,\n",
    "    validation_data=validation_generator,\n",
    "    validation_steps=50)"
   ]
  },
  {
   "cell_type": "code",
   "execution_count": 16,
   "id": "bf608686",
   "metadata": {},
   "outputs": [
    {
     "data": {
      "image/png": "[encoded data removed]",
      "text/plain": [
       "<Figure size 576x360 with 1 Axes>"
      ]
     },
     "metadata": {
      "needs_background": "light"
     },
     "output_type": "display_data"
    }
   ],
   "source": [
    "pd.DataFrame(history.history).plot(figsize=(8,5))\n",
    "plt.grid(True)\n",
    "plt.gca().set_ylim(0,1)\n",
    "plt.show()"
   ]
  },
  {
   "cell_type": "code",
   "execution_count": 17,
   "id": "570952fb",
   "metadata": {},
   "outputs": [],
   "source": [
    "hist_df=pd.DataFrame(history.history)"
   ]
  },
  {
   "cell_type": "code",
   "execution_count": 18,
   "id": "ff340f1f",
   "metadata": {},
   "outputs": [
    {
     "ename": "SyntaxError",
     "evalue": "invalid syntax (2347350839.py, line 2)",
     "output_type": "error",
     "traceback": [
      "\u001b[1;36m  Input \u001b[1;32mIn [18]\u001b[1;36m\u001b[0m\n\u001b[1;33m    with open(hist_csv_file,mode='w') as f;\u001b[0m\n\u001b[1;37m                                          ^\u001b[0m\n\u001b[1;31mSyntaxError\u001b[0m\u001b[1;31m:\u001b[0m invalid syntax\n"
     ]
    }
   ],
   "source": [
    "hist_csv_file='history.csv'\n",
    "with open(hist_csv_file,mode='w') as f;\n",
    "hist_df.to_csv(f)"
   ]
  },
  {
   "cell_type": "code",
   "execution_count": null,
   "id": "12271056",
   "metadata": {},
   "outputs": [],
   "source": [
    "test_generator= test_datagen.flow_from_directory(\n",
    "    test_dir,\n",
    "    target_size=(150,150),\n",
    "    batch_size=20,\n",
    "    class_mode='binary')"
   ]
  },
  {
   "cell_type": "code",
   "execution_count": null,
   "id": "9c378ec6",
   "metadata": {},
   "outputs": [],
   "source": [
    "model.evaluate_generator(test_generator,steps=50)"
   ]
  }
 ],
 "metadata": {
  "kernelspec": {
   "display_name": "Python 3 (ipykernel)",
   "language": "python",
   "name": "python3"
  },
  "language_info": {
   "codemirror_mode": {
    "name": "ipython",
    "version": 3
   },
   "file_extension": ".py",
   "mimetype": "text/x-python",
   "name": "python",
   "nbconvert_exporter": "python",
   "pygments_lexer": "ipython3",
   "version": "3.9.12"
  }
 },
 "nbformat": 4,
 "nbformat_minor": 5
}
